{
 "cells": [
  {
   "cell_type": "code",
   "execution_count": 1,
   "id": "60d7ed56",
   "metadata": {},
   "outputs": [],
   "source": [
    "import hashlib\n",
    "import logging\n",
    "import pickle\n",
    "import requests\n",
    "import json\n",
    "import numpy as np\n",
    "from openai import AzureOpenAI\n",
    "import tiktoken\n",
    "import requests"
   ]
  },
  {
   "cell_type": "code",
   "execution_count": 2,
   "id": "ffa64f4f",
   "metadata": {},
   "outputs": [
    {
     "name": "stdout",
     "output_type": "stream",
     "text": [
      "{'property_id': 'dbca0987-6794-473a-8053-158c817e5540'}\n"
     ]
    }
   ],
   "source": [
    "import os\n",
    "\n",
    "property_param = {\"id\": os.getenv(\"PROPERTY_PARAM\")}\n",
    "whitelist_param = {\"property_id\": os.getenv(\"PROPERTY_PARAM\")}\n",
    "model_name = os.getenv(\"EMBEDDING_MODEL_NAME\")\n",
    "api_version = os.getenv(\"EMBEDDING_MODEL_API_VERSION\")\n",
    "endpoint = os.getenv(\"AZ_OPEN_AI_ENDPOINT\")\n",
    "subscription_key = os.getenv(\"AZ_OPEN_AI_KEY\")\n",
    "encoding = \"cl100k_base\"\n",
    "\n",
    "print(whitelist_param)\n",
    "\n",
    "def num_tokens_from_string(string: str, encoding_name: str = encoding) -> int:\n",
    "    encoding = tiktoken.get_encoding(encoding_name)\n",
    "    return len(encoding.encode(string))\n",
    "\n",
    "def generate_embeddings(text, model):\n",
    "    client = AzureOpenAI(\n",
    "        api_version=api_version,\n",
    "        azure_endpoint=endpoint,\n",
    "        api_key=subscription_key,\n",
    "    )\n",
    "    result = client.embeddings.create(input=text, model=model)\n",
    "    return result.data"
   ]
  },
  {
   "cell_type": "code",
   "execution_count": 3,
   "id": "65d6a2cc",
   "metadata": {},
   "outputs": [],
   "source": [
    "def get_embedded_whitelist(whitelist_data):\n",
    "    embedded_whitelist = {\"merchant_name\": [], \"company_name\": []}\n",
    "    merchant_name_whitelist = [\n",
    "        whitelist[\"store_name\"].lower()\n",
    "        for whitelist in whitelist_data\n",
    "        if whitelist[\"store_name\"].strip() != ''\n",
    "    ]\n",
    "    company_name_whitelist = [\n",
    "        whitelist[\"company_name\"].lower() \n",
    "        for whitelist in whitelist_data\n",
    "        if whitelist[\"company_name\"].strip() != ''\n",
    "    ]\n",
    "    print(f\"Number of merchant tokens : {num_tokens_from_string(str(merchant_name_whitelist), encoding)}\")\n",
    "    embedded_store_name = generate_embeddings(merchant_name_whitelist, model_name)\n",
    "    for store_name in embedded_store_name:\n",
    "        embedded_store_name = np.array(store_name.embedding).reshape(1, -1)\n",
    "        embedded_whitelist[\"merchant_name\"].append(embedded_store_name)\n",
    "        \n",
    "    print(f\"Number of company tokens : {num_tokens_from_string(str(company_name_whitelist), encoding)}\")\n",
    "    embedded_company_name = generate_embeddings(company_name_whitelist, model_name)\n",
    "    for company_name in embedded_company_name:\n",
    "        embedded_company_name = np.array(company_name.embedding).reshape(1, -1)\n",
    "        embedded_whitelist[\"company_name\"].append(embedded_company_name)\n",
    "\n",
    "    return embedded_whitelist"
   ]
  },
  {
   "cell_type": "code",
   "execution_count": 6,
   "id": "7963d487",
   "metadata": {},
   "outputs": [
    {
     "name": "stdout",
     "output_type": "stream",
     "text": [
      "Number of merchant tokens : 3998\n",
      "Number of company tokens : 3831\n",
      "\n",
      "Total stores with names: 280\n",
      "Total companies with names: 280\n"
     ]
    }
   ],
   "source": [
    "from collections import Counter\n",
    "\n",
    "whitelist_data= requests.get(\n",
    "    \"https://uat-obk.tccproptech.com/ob-parking/config/store/whitelist\",\n",
    "    params=whitelist_param,\n",
    ")\n",
    "get_embedded_whitelist(whitelist_data.json())\n",
    "\n",
    "def count_total_entries(data):\n",
    "    total_stores = sum(1 for item in data if item['store_name'])\n",
    "    total_companies = sum(1 for item in data if item['company_name'])\n",
    "    \n",
    "    return total_stores, total_companies\n",
    "total_stores, total_companies = count_total_entries(whitelist_data.json())\n",
    "print(f\"\\nTotal stores with names: {total_stores}\")\n",
    "print(f\"Total companies with names: {total_companies}\")"
   ]
  },
  {
   "cell_type": "code",
   "execution_count": 5,
   "id": "4cc41d22",
   "metadata": {},
   "outputs": [
    {
     "name": "stdout",
     "output_type": "stream",
     "text": [
      "Store number 280\n",
      "Company number 280\n",
      "280\n"
     ]
    }
   ],
   "source": [
    "import pandas as pd\n",
    "\n",
    "df = pd.DataFrame(whitelist_data.json())\n",
    "print(f\"Store number {len(df['store_name'])}\")\n",
    "print(f\"Company number {len(df['company_name'])}\")\n",
    "print(len(df))"
   ]
  }
 ],
 "metadata": {
  "kernelspec": {
   "display_name": "venv",
   "language": "python",
   "name": "python3"
  },
  "language_info": {
   "codemirror_mode": {
    "name": "ipython",
    "version": 3
   },
   "file_extension": ".py",
   "mimetype": "text/x-python",
   "name": "python",
   "nbconvert_exporter": "python",
   "pygments_lexer": "ipython3",
   "version": "3.12.9"
  }
 },
 "nbformat": 4,
 "nbformat_minor": 5
}
