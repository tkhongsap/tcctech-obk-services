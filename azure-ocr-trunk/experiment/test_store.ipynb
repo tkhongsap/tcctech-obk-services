{
 "cells": [
  {
   "cell_type": "code",
   "execution_count": 76,
   "id": "539f2cef",
   "metadata": {},
   "outputs": [],
   "source": [
    "from dotenv import dotenv_values\n",
    "import logging\n",
    "from src.core.ocr_intel import create_doc_intel_client, extract_receipts\n",
    "\n",
    "logger = logging.getLogger(__name__)\n",
    "\n",
    "config = dotenv_values(\".env\")\n",
    "\n",
    "endpoint = config[\"ENDPOINT_S0_DOC_INT\"]\n",
    "key = config[\"KEY_S0_DOC_INT\"]\n",
    "\n",
    "doc_intel_client = create_doc_intel_client(endpoint, key)\n",
    "\n",
    "def extraction(source):\n",
    "    extracted_receipts, content = extract_receipts(\n",
    "        bytes_source=source, document_intelligence_client=doc_intel_client\n",
    "    )\n",
    "    \n",
    "    return extracted_receipts, content\n"
   ]
  },
  {
   "cell_type": "code",
   "execution_count": 77,
   "id": "fcd54f8d",
   "metadata": {},
   "outputs": [],
   "source": [
    "import os\n",
    "\n",
    "def images_in_directory_to_bytes(directory_path, extensions={'.jpg', '.jpeg', '.png', '.bmp', '.gif'}):\n",
    "    \"\"\"\n",
    "    Reads all image files in the specified directory and returns a dictionary\n",
    "    mapping filenames to their byte content.\n",
    "\n",
    "    Parameters:\n",
    "    - directory_path (str): Path to the directory containing images.\n",
    "    - extensions (set): Set of file extensions to include (default: common image formats).\n",
    "\n",
    "    Returns:\n",
    "    - dict: {filename: byte content}\n",
    "    \"\"\"\n",
    "    image_bytes_dict = {}\n",
    "\n",
    "    if not os.path.isdir(directory_path):\n",
    "        print(f\"Invalid directory: {directory_path}\")\n",
    "        return {}\n",
    "\n",
    "    for filename in os.listdir(directory_path):\n",
    "        file_path = os.path.join(directory_path, filename)\n",
    "\n",
    "        if os.path.isfile(file_path) and os.path.splitext(filename)[1].lower() in extensions:\n",
    "            try:\n",
    "                with open(file_path, 'rb') as image_file:\n",
    "                    image_bytes_dict[filename] = image_file.read()\n",
    "            except Exception as e:\n",
    "                print(f\"Error reading {filename}: {e}\")\n",
    "\n",
    "    return image_bytes_dict\n"
   ]
  },
  {
   "cell_type": "code",
   "execution_count": 78,
   "id": "29f28a6b",
   "metadata": {},
   "outputs": [],
   "source": [
    "import pandas as pd\n",
    "\n",
    "def receipts_to_csv(receipts):\n",
    "    \"\"\"\n",
    "    Converts a list of receipt dictionaries into a UTF-8 encoded CSV file.\n",
    "    \n",
    "    - Each top-level key becomes a column.\n",
    "    - The 'items' list is flattened into a readable string.\n",
    "    \n",
    "    Parameters:\n",
    "    - receipts (list): List of dictionaries containing receipt data.\n",
    "    - output_file (str): Path to output CSV file.\n",
    "    \"\"\"\n",
    "    \n",
    "    df = pd.DataFrame(receipts)\n",
    "    df.to_excel(\"receipts.xlsx\", index=False)\n",
    "    return\n"
   ]
  },
  {
   "cell_type": "code",
   "execution_count": 87,
   "id": "53ff3991",
   "metadata": {},
   "outputs": [
    {
     "name": "stdout",
     "output_type": "stream",
     "text": [
      "Bigc Market .png: 198556 bytes\n",
      "Canvas.png: 183779 bytes\n"
     ]
    }
   ],
   "source": [
    "dir_path = \"Receipts-20250704T024310Z-1-001/Receipts/Forum receipt\"\n",
    "images_bytes = images_in_directory_to_bytes(dir_path)\n",
    "\n",
    "for name, byte_data in images_bytes.items():\n",
    "    print(f\"{name}: {len(byte_data)} bytes\")\n"
   ]
  },
  {
   "cell_type": "code",
   "execution_count": 88,
   "id": "4c4640ce",
   "metadata": {},
   "outputs": [],
   "source": [
    "results = []\n",
    "for image in images_bytes:\n",
    "    result = extraction(images_bytes[image])\n",
    "    result[0][0]['file_name'] = image\n",
    "    results.append(result[0][0])"
   ]
  },
  {
   "cell_type": "code",
   "execution_count": 85,
   "id": "1a120f6d",
   "metadata": {},
   "outputs": [
    {
     "data": {
      "text/plain": [
       "{'merchant_name': 'PIB/KL Consulting (Thailand) Co.,Ltd.',\n",
       " 'transaction_date': '2025-05-09',\n",
       " 'transaction_time': '14:20',\n",
       " 'items': [{'description': 'Red Wine Poached Pear',\n",
       "   'quantity': 1,\n",
       "   'total_price': 295.0}],\n",
       " 'total': 295.0,\n",
       " 'tax_id': '0105546032501',\n",
       " 'receipt_no': 'APRIL/00003252',\n",
       " 'address': 'อาคารพาเหรด โครงการ วันแบงค็อก ห้องเลข\\nที่ OP1303 ชั้น3 เลขที่1877 ถนน พระรามที่ 4\\nแขวงลุมพินี เขต ปทุมวัน กรุงเทพมหานคร\\n10330',\n",
       " 'unit_no': None,\n",
       " 'mall_name': 'ONE BANGKOK',\n",
       " 'hashed_receipt': '8babe024da8186a01d81cc8a75ea1e8e9c872018bf000b443e7c753fa47cd6fd',\n",
       " 'file_name': 'A Keen.png'}"
      ]
     },
     "execution_count": 85,
     "metadata": {},
     "output_type": "execute_result"
    }
   ],
   "source": [
    "results[0]"
   ]
  },
  {
   "cell_type": "code",
   "execution_count": 89,
   "id": "760ebb94",
   "metadata": {},
   "outputs": [],
   "source": [
    "receipts_to_csv(results)"
   ]
  },
  {
   "cell_type": "code",
   "execution_count": null,
   "id": "4fb7cc06",
   "metadata": {},
   "outputs": [],
   "source": []
  }
 ],
 "metadata": {
  "kernelspec": {
   "display_name": "Python 3",
   "language": "python",
   "name": "python3"
  },
  "language_info": {
   "codemirror_mode": {
    "name": "ipython",
    "version": 3
   },
   "file_extension": ".py",
   "mimetype": "text/x-python",
   "name": "python",
   "nbconvert_exporter": "python",
   "pygments_lexer": "ipython3",
   "version": "3.13.2"
  }
 },
 "nbformat": 4,
 "nbformat_minor": 5
}
