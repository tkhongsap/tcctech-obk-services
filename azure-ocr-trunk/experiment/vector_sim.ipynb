{
 "cells": [
  {
   "cell_type": "code",
   "execution_count": 1,
   "id": "8a670da2",
   "metadata": {},
   "outputs": [
    {
     "name": "stderr",
     "output_type": "stream",
     "text": [
      "/opt/homebrew/Caskroom/miniforge/base/envs/azure-ocr/lib/python3.10/site-packages/tqdm/auto.py:21: TqdmWarning: IProgress not found. Please update jupyter and ipywidgets. See https://ipywidgets.readthedocs.io/en/stable/user_install.html\n",
      "  from .autonotebook import tqdm as notebook_tqdm\n"
     ]
    }
   ],
   "source": [
    "from sentence_transformers import SentenceTransformer\n",
    "import pandas as pd\n",
    "import numpy as np"
   ]
  },
  {
   "cell_type": "code",
   "execution_count": 2,
   "id": "fcf1a6b9",
   "metadata": {},
   "outputs": [],
   "source": [
    "bge = SentenceTransformer(\"BAAI/bge-m3\")"
   ]
  },
  {
   "cell_type": "code",
   "execution_count": 3,
   "id": "6324511f",
   "metadata": {},
   "outputs": [],
   "source": [
    "df = pd.DataFrame()"
   ]
  },
  {
   "cell_type": "code",
   "execution_count": 4,
   "id": "76b18291",
   "metadata": {},
   "outputs": [],
   "source": [
    "def text_sim(model, text1: list, text2: list):\n",
    "    embeddings1 = model.encode(text1)\n",
    "    embeddings2 = model.encode(text2)\n",
    "    similarities = model.similarity(embeddings1, embeddings2)\n",
    "\n",
    "    for idx_i, sentence1 in enumerate(text1):\n",
    "        print(f\"{sentence1}\")\n",
    "        for idx_j, sentence2 in enumerate(text2):\n",
    "            print(f\" - {sentence2: <30}: {similarities[idx_i][idx_j]:.4f}\")\n",
    "\n",
    "    return similarities"
   ]
  },
  {
   "cell_type": "code",
   "execution_count": 5,
   "id": "bfac42d6",
   "metadata": {},
   "outputs": [
    {
     "name": "stdout",
     "output_type": "stream",
     "text": [
      "บริษัท ยนไดเมะ คิคุคาวะ\n",
      " - บริษัท ยนไดเมะ คิคุคาวะ       : 1.0000\n",
      " - บริษัท ยนไดเมะ คิคุคาวะ (ประเทศไทย): 0.8388\n",
      " - ยนไดเมะ คิคุคาวะ (ประเทศไทย)  : 0.7590\n",
      " - ยนไดเมะ คิคุคาวะ              : 0.8474\n",
      "บริษัท ยนไดเมะ คิคุคาวะ (ประเทศไทย)\n",
      " - บริษัท ยนไดเมะ คิคุคาวะ       : 0.8388\n",
      " - บริษัท ยนไดเมะ คิคุคาวะ (ประเทศไทย): 1.0000\n",
      " - ยนไดเมะ คิคุคาวะ (ประเทศไทย)  : 0.9329\n",
      " - ยนไดเมะ คิคุคาวะ              : 0.6802\n",
      "ยนไดเมะ คิคุคาวะ (ประเทศไทย)\n",
      " - บริษัท ยนไดเมะ คิคุคาวะ       : 0.7590\n",
      " - บริษัท ยนไดเมะ คิคุคาวะ (ประเทศไทย): 0.9329\n",
      " - ยนไดเมะ คิคุคาวะ (ประเทศไทย)  : 1.0000\n",
      " - ยนไดเมะ คิคุคาวะ              : 0.7014\n",
      "ยนไดเมะ คิคุคาวะ\n",
      " - บริษัท ยนไดเมะ คิคุคาวะ       : 0.8474\n",
      " - บริษัท ยนไดเมะ คิคุคาวะ (ประเทศไทย): 0.6802\n",
      " - ยนไดเมะ คิคุคาวะ (ประเทศไทย)  : 0.7014\n",
      " - ยนไดเมะ คิคุคาวะ              : 1.0000\n"
     ]
    }
   ],
   "source": [
    "sentences = [\n",
    "    \"บริษัท ยนไดเมะ คิคุคาวะ\",\n",
    "    \"บริษัท ยนไดเมะ คิคุคาวะ (ประเทศไทย)\",\n",
    "    \"ยนไดเมะ คิคุคาวะ (ประเทศไทย)\",\n",
    "    \"ยนไดเมะ คิคุคาวะ\"\n",
    "]\n",
    "sim = text_sim(bge,sentences,sentences)\n",
    "\n",
    "data = []\n",
    "for idx_i, sentence1 in enumerate(sentences):\n",
    "    for idx_j, sentence2 in enumerate(sentences):\n",
    "        data.append({\n",
    "            \"Sentence 1\": sentence1,\n",
    "            \"Sentence 2\": sentence2,\n",
    "            \"Similarity\": np.round(sim[idx_i][idx_j].item() * 100,4)\n",
    "        })\n",
    "df = pd.concat([df,pd.DataFrame(data)])"
   ]
  },
  {
   "cell_type": "code",
   "execution_count": 6,
   "id": "92539872",
   "metadata": {},
   "outputs": [
    {
     "name": "stdout",
     "output_type": "stream",
     "text": [
      "Dean & Deluca\n",
      " - Dean & Deluca                 : 1.0000\n",
      " - DEAN & DELUCA                 : 0.8454\n",
      " - Dean & Deluca Asia            : 0.8625\n",
      " - Dean & Deluca Asia (Thailand) : 0.6822\n",
      " - Dean & Deluca Asia (Thailand) Co., Ltd.: 0.6780\n",
      "DEAN & DELUCA\n",
      " - Dean & Deluca                 : 0.8454\n",
      " - DEAN & DELUCA                 : 1.0000\n",
      " - Dean & Deluca Asia            : 0.7346\n",
      " - Dean & Deluca Asia (Thailand) : 0.5807\n",
      " - Dean & Deluca Asia (Thailand) Co., Ltd.: 0.5887\n",
      "Dean & Deluca Asia\n",
      " - Dean & Deluca                 : 0.8625\n",
      " - DEAN & DELUCA                 : 0.7346\n",
      " - Dean & Deluca Asia            : 1.0000\n",
      " - Dean & Deluca Asia (Thailand) : 0.8179\n",
      " - Dean & Deluca Asia (Thailand) Co., Ltd.: 0.7658\n",
      "Dean & Deluca Asia (Thailand)\n",
      " - Dean & Deluca                 : 0.6822\n",
      " - DEAN & DELUCA                 : 0.5807\n",
      " - Dean & Deluca Asia            : 0.8179\n",
      " - Dean & Deluca Asia (Thailand) : 1.0000\n",
      " - Dean & Deluca Asia (Thailand) Co., Ltd.: 0.8888\n",
      "Dean & Deluca Asia (Thailand) Co., Ltd.\n",
      " - Dean & Deluca                 : 0.6780\n",
      " - DEAN & DELUCA                 : 0.5887\n",
      " - Dean & Deluca Asia            : 0.7658\n",
      " - Dean & Deluca Asia (Thailand) : 0.8888\n",
      " - Dean & Deluca Asia (Thailand) Co., Ltd.: 1.0000\n"
     ]
    }
   ],
   "source": [
    "sentences = [\n",
    "    \"Dean & Deluca\",\n",
    "    \"DEAN & DELUCA\",\n",
    "    \"Dean & Deluca Asia\",\n",
    "    \"Dean & Deluca Asia (Thailand)\",\n",
    "    \"Dean & Deluca Asia (Thailand) Co., Ltd.\",\n",
    "]\n",
    "sim = text_sim(bge,sentences,sentences)\n",
    "\n",
    "data = []\n",
    "for idx_i, sentence1 in enumerate(sentences):\n",
    "    for idx_j, sentence2 in enumerate(sentences):\n",
    "        data.append({\n",
    "            \"Sentence 1\": sentence1,\n",
    "            \"Sentence 2\": sentence2,\n",
    "            \"Similarity\": np.round(sim[idx_i][idx_j].item() * 100,4)\n",
    "        })\n",
    "df = pd.concat([df,pd.DataFrame(data)])"
   ]
  },
  {
   "cell_type": "code",
   "execution_count": null,
   "id": "eea35b29",
   "metadata": {},
   "outputs": [
    {
     "name": "stdout",
     "output_type": "stream",
     "text": [
      "Big C Market\n",
      " - Big C Market                  : 1.0000\n",
      " - BIG C MARKET                  : 0.8478\n",
      " - BIGC MARKET                   : 0.7203\n",
      " - BIG C MARKET                  : 0.8478\n",
      "BIG C MARKET\n",
      " - Big C Market                  : 0.8478\n",
      " - BIG C MARKET                  : 1.0000\n",
      " - BIGC MARKET                   : 0.8777\n",
      " - BIG C MARKET                  : 1.0000\n",
      "BIGC MARKET\n",
      " - Big C Market                  : 0.7203\n",
      " - BIG C MARKET                  : 0.8777\n",
      " - BIGC MARKET                   : 1.0000\n",
      " - BIG C MARKET                  : 0.8777\n",
      "BIG C MARKET\n",
      " - Big C Market                  : 0.8478\n",
      " - BIG C MARKET                  : 1.0000\n",
      " - BIGC MARKET                   : 0.8777\n",
      " - BIG C MARKET                  : 1.0000\n"
     ]
    }
   ],
   "source": [
    "sentences = [\n",
    "    \"Big C Market\",\n",
    "    \"BIG C MARKET\",\n",
    "    \"BIGC MARKET\",\n",
    "]\n",
    "sim = text_sim(bge,sentences,sentences)\n",
    "\n",
    "data = []\n",
    "for idx_i, sentence1 in enumerate(sentences):\n",
    "    for idx_j, sentence2 in enumerate(sentences):\n",
    "        data.append({\n",
    "            \"Sentence 1\": sentence1,\n",
    "            \"Sentence 2\": sentence2,\n",
    "            \"Similarity\": np.round(sim[idx_i][idx_j].item() * 100,4)\n",
    "        })\n",
    "df = pd.concat([df,pd.DataFrame(data)])"
   ]
  },
  {
   "cell_type": "code",
   "execution_count": 9,
   "id": "100a4ddb",
   "metadata": {},
   "outputs": [
    {
     "name": "stdout",
     "output_type": "stream",
     "text": [
      "Hachicken Ramen\n",
      " - Hachicken Ramen               : 1.0000\n",
      " - KYOTO RAMEN HACHICKEN         : 0.7382\n",
      " - Hachicken                     : 0.8774\n",
      " - Kyoto Ramen Hachicken         : 0.8850\n",
      "KYOTO RAMEN HACHICKEN\n",
      " - Hachicken Ramen               : 0.7382\n",
      " - KYOTO RAMEN HACHICKEN         : 1.0000\n",
      " - Hachicken                     : 0.6257\n",
      " - Kyoto Ramen Hachicken         : 0.7837\n",
      "Hachicken\n",
      " - Hachicken Ramen               : 0.8774\n",
      " - KYOTO RAMEN HACHICKEN         : 0.6257\n",
      " - Hachicken                     : 1.0000\n",
      " - Kyoto Ramen Hachicken         : 0.7604\n",
      "Kyoto Ramen Hachicken\n",
      " - Hachicken Ramen               : 0.8850\n",
      " - KYOTO RAMEN HACHICKEN         : 0.7837\n",
      " - Hachicken                     : 0.7604\n",
      " - Kyoto Ramen Hachicken         : 1.0000\n"
     ]
    }
   ],
   "source": [
    "sentences = [\n",
    "    \"Hachicken Ramen\",\n",
    "    \"KYOTO RAMEN HACHICKEN\",\n",
    "    \"Hachicken\",\n",
    "    \"Kyoto Ramen Hachicken\",\n",
    "]\n",
    "sim = text_sim(bge,sentences,sentences)\n",
    "\n",
    "data = []\n",
    "for idx_i, sentence1 in enumerate(sentences):\n",
    "    for idx_j, sentence2 in enumerate(sentences):\n",
    "        data.append({\n",
    "            \"Sentence 1\": sentence1,\n",
    "            \"Sentence 2\": sentence2,\n",
    "            \"Similarity\": np.round(sim[idx_i][idx_j].item() * 100,4)\n",
    "        })\n",
    "df = pd.concat([df,pd.DataFrame(data)])"
   ]
  },
  {
   "cell_type": "code",
   "execution_count": null,
   "id": "3a278e8c",
   "metadata": {},
   "outputs": [],
   "source": []
  }
 ],
 "metadata": {
  "kernelspec": {
   "display_name": "azure-ocr",
   "language": "python",
   "name": "python3"
  },
  "language_info": {
   "codemirror_mode": {
    "name": "ipython",
    "version": 3
   },
   "file_extension": ".py",
   "mimetype": "text/x-python",
   "name": "python",
   "nbconvert_exporter": "python",
   "pygments_lexer": "ipython3",
   "version": "3.10.16"
  }
 },
 "nbformat": 4,
 "nbformat_minor": 5
}
